{
  "nbformat": 4,
  "nbformat_minor": 0,
  "metadata": {
    "colab": {
      "provenance": [],
      "toc_visible": true,
      "authorship_tag": "ABX9TyMKfU2yp1EY6QOSrpQVl7Cb",
      "include_colab_link": true
    },
    "kernelspec": {
      "name": "python3",
      "display_name": "Python 3"
    },
    "language_info": {
      "name": "python"
    }
  },
  "cells": [
    {
      "cell_type": "markdown",
      "metadata": {
        "id": "view-in-github",
        "colab_type": "text"
      },
      "source": [
        "<a href=\"https://colab.research.google.com/github/WasifAli22/Agentic-AI/blob/main/LangchainHelloworld.ipynb\" target=\"_parent\"><img src=\"https://colab.research.google.com/assets/colab-badge.svg\" alt=\"Open In Colab\"/></a>"
      ]
    },
    {
      "cell_type": "code",
      "execution_count": 2,
      "metadata": {
        "id": "XHDN2cRMyWmj"
      },
      "outputs": [],
      "source": [
        "!pip install langchain langchain-google-genai"
      ]
    },
    {
      "cell_type": "code",
      "source": [
        "import langchain_google_genai as genai\n"
      ],
      "metadata": {
        "id": "gkWgjcToz9h5"
      },
      "execution_count": null,
      "outputs": []
    },
    {
      "cell_type": "code",
      "source": [
        "from langchain_google_genai import ChatGoogleGenerativeAI"
      ],
      "metadata": {
        "id": "n_4CVAvw0f49"
      },
      "execution_count": null,
      "outputs": []
    },
    {
      "cell_type": "code",
      "source": [
        "from google.colab import userdata\n",
        "GOOGLE_API_KEY = userdata.get('GOOGLE_API_KEY')\n",
        "GOOGLE_API_KEY"
      ],
      "metadata": {
        "id": "Uk4mYsFZ1uWd"
      },
      "execution_count": 1,
      "outputs": []
    },
    {
      "cell_type": "code",
      "source": [
        "model : ChatGoogleGenerativeAI = ChatGoogleGenerativeAI(\n",
        "    model = \"gemini-2.0-flash\",\n",
        "    api_key = GOOGLE_API_KEY,\n",
        ")"
      ],
      "metadata": {
        "id": "lox97Koh1cct"
      },
      "execution_count": null,
      "outputs": []
    },
    {
      "cell_type": "code",
      "source": [
        "response1 = model.invoke(\"who is Imran khan\")\n",
        "print(response1.content)"
      ],
      "metadata": {
        "colab": {
          "base_uri": "https://localhost:8080/"
        },
        "id": "p-fHzzFkI651",
        "outputId": "72d0ba2e-7fd9-4a4d-bf1c-cc005d3e54b2"
      },
      "execution_count": null,
      "outputs": [
        {
          "output_type": "stream",
          "name": "stdout",
          "text": [
            "Imran Khan is a Pakistani politician and former cricketer who served as the 22nd Prime Minister of Pakistan from August 2018 until April 2022.\n",
            "\n",
            "Here's a brief overview of his life and career:\n",
            "\n",
            "*   **Cricket Career:** Khan was a star cricketer and captained the Pakistan national cricket team to victory in the 1992 Cricket World Cup. He is regarded as one of the greatest cricketers of all time.\n",
            "\n",
            "*   **Philanthropy:** After retiring from cricket, Khan focused on philanthropic work, establishing the Shaukat Khanum Memorial Cancer Hospital & Research Centre in memory of his mother.\n",
            "\n",
            "*   **Political Career:** In 1996, he founded the Pakistan Tehreek-e-Insaf (PTI) political party. He ran for office several times before finally winning the 2018 general election.\n",
            "\n",
            "*   **Premiership:** As Prime Minister, Khan pursued policies focused on economic reform, anti-corruption, and an independent foreign policy. He was ousted in a vote of no-confidence in April 2022.\n",
            "\n",
            "*   **Post-Premiership:** Since being removed from office, Khan has remained a prominent political figure in Pakistan, leading large rallies and criticizing the current government.\n"
          ]
        }
      ]
    }
  ]
}